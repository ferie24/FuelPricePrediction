{
 "cells": [
  {
   "cell_type": "code",
   "execution_count": 17,
   "metadata": {},
   "outputs": [],
   "source": [
    "import os\n",
    "from git import Repo\n",
    "import datetime"
   ]
  },
  {
   "cell_type": "code",
   "execution_count": 18,
   "metadata": {},
   "outputs": [],
   "source": [
    "def cloneLastYears(): \n",
    "        # Clone the last 2 years of data\n",
    "        rep_url = r\"https://tankerkoenig@dev.azure.com/tankerkoenig/tankerkoenig-data/_git/tankerkoenig-data\"\n",
    "        repo = Repo.clone_from(\n",
    "            rep_url, \n",
    "            './CSVs', \n",
    "            filter='blob:none', \n",
    "            sparse=True\n",
    "        )\n",
    "        thisYear = datetime.datetime.now().year\n",
    "        lastYear = thisYear - 1\n",
    "        twoYearsAgo = thisYear - 2\n",
    "        print(repo.git.sparse_checkout('set', 'prices/' + str(thisYear), 'prices/' + str(lastYear), 'prices/' + str(twoYearsAgo), 'stations/'+ str(thisYear)))\n",
    "        return True\n",
    "\n",
    "def checkContent():\n",
    "    # Check if the CSVs are there\n",
    "    if os.path.exists('./CSVs/prices') and os.path.exists('./CSVs/stations'):\n",
    "        return True\n",
    "    else:\n",
    "        return False\n",
    "    \n",
    "def update():\n",
    "    # Pull the latest data\n",
    "    repo = Repo('./CSVs')\n",
    "    print(repo.remotes.origin.pull())\n",
    "    \n",
    "    return True\n",
    "\n",
    "def main():\n",
    "    if checkContent():\n",
    "        if update():\n",
    "            print(\"Data updated\")\n",
    "        else:\n",
    "            print(\"Data could not be updated\")\n",
    "    else:\n",
    "        if cloneLastYears():\n",
    "            print(\"Data cloned\")\n",
    "        else:\n",
    "            print(\"Data could not be cloned\")"
   ]
  },
  {
   "cell_type": "code",
   "execution_count": 19,
   "metadata": {},
   "outputs": [
    {
     "name": "stdout",
     "output_type": "stream",
     "text": [
      "\n",
      "Data cloned\n"
     ]
    }
   ],
   "source": [
    "main()"
   ]
  }
 ],
 "metadata": {
  "kernelspec": {
   "display_name": "base",
   "language": "python",
   "name": "python3"
  },
  "language_info": {
   "codemirror_mode": {
    "name": "ipython",
    "version": 3
   },
   "file_extension": ".py",
   "mimetype": "text/x-python",
   "name": "python",
   "nbconvert_exporter": "python",
   "pygments_lexer": "ipython3",
   "version": "3.12.8"
  }
 },
 "nbformat": 4,
 "nbformat_minor": 2
}
